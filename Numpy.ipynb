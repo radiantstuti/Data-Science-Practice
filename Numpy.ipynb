{
 "cells": [
  {
   "cell_type": "code",
   "execution_count": 1,
   "id": "6e49ec70-51ef-4d05-8cd1-1818edbcb23a",
   "metadata": {},
   "outputs": [],
   "source": [
    "import numpy as np"
   ]
  },
  {
   "cell_type": "code",
   "execution_count": 7,
   "id": "8d51a857-28b1-4ce2-9bbf-f13c63c292f5",
   "metadata": {},
   "outputs": [],
   "source": [
    "arr = np.arange(10000)"
   ]
  },
  {
   "cell_type": "code",
   "execution_count": 8,
   "id": "e5434684-fb01-4852-9932-d858ddce76fb",
   "metadata": {},
   "outputs": [],
   "source": [
    "pythlist = list(range(10000))"
   ]
  },
  {
   "cell_type": "code",
   "execution_count": 10,
   "id": "8957350f-30df-476d-bad7-e6dada9f15ee",
   "metadata": {},
   "outputs": [
    {
     "name": "stdout",
     "output_type": "stream",
     "text": [
      "CPU times: total: 0 ns\n",
      "Wall time: 25.7 ms\n"
     ]
    }
   ],
   "source": [
    "%time for _ in range(10): [item*3 for item in pythlist]"
   ]
  },
  {
   "cell_type": "code",
   "execution_count": 11,
   "id": "bf5b9134-7d01-40d6-99c9-9bc87302c08d",
   "metadata": {},
   "outputs": [
    {
     "name": "stdout",
     "output_type": "stream",
     "text": [
      "CPU times: total: 0 ns\n",
      "Wall time: 14.7 ms\n"
     ]
    }
   ],
   "source": [
    "%time for _ in range(10): arr = arr*3"
   ]
  },
  {
   "cell_type": "code",
   "execution_count": 12,
   "id": "da266b09-a552-4f09-a78a-806015c4eada",
   "metadata": {},
   "outputs": [
    {
     "data": {
      "text/plain": [
       "array([3, 4, 5, 6, 7])"
      ]
     },
     "execution_count": 12,
     "metadata": {},
     "output_type": "execute_result"
    }
   ],
   "source": [
    "np.array([3,4,5,6,7])"
   ]
  },
  {
   "cell_type": "code",
   "execution_count": 3,
   "id": "dcf98403-10d9-4d50-8340-bd6f2bd6a607",
   "metadata": {},
   "outputs": [
    {
     "data": {
      "text/plain": [
       "array([1, 2, 3])"
      ]
     },
     "execution_count": 3,
     "metadata": {},
     "output_type": "execute_result"
    }
   ],
   "source": [
    "#1D Array\n",
    "arr1 = np.array([1,2,3])\n",
    "arr1"
   ]
  },
  {
   "cell_type": "code",
   "execution_count": 4,
   "id": "f793bf21-4f65-49e7-9792-640cc08ab0b1",
   "metadata": {},
   "outputs": [
    {
     "data": {
      "text/plain": [
       "array([[1.8 , 2.5 , 3.14],\n",
       "       [4.  , 5.  , 6.  ]])"
      ]
     },
     "execution_count": 4,
     "metadata": {},
     "output_type": "execute_result"
    }
   ],
   "source": [
    "#2D Array\n",
    "X = ([[1.8, 2.5, 3.14],\n",
    "      [4, 5, 6]])\n",
    "arr2 = np.array(X)\n",
    "arr2"
   ]
  },
  {
   "cell_type": "code",
   "execution_count": 5,
   "id": "f77b9938-9637-42cd-aaf4-49e84d21375d",
   "metadata": {},
   "outputs": [
    {
     "data": {
      "text/plain": [
       "array([[1, 2, 3],\n",
       "       [4, 5, 6],\n",
       "       [7, 8, 9]])"
      ]
     },
     "execution_count": 5,
     "metadata": {},
     "output_type": "execute_result"
    }
   ],
   "source": [
    "#3D Array\n",
    "Y = ([[1,2,3],\n",
    "      [4,5,6],\n",
    "      [7,8,9]])\n",
    "arr3 = np.array(Y)\n",
    "arr3"
   ]
  },
  {
   "cell_type": "code",
   "execution_count": 6,
   "id": "a4494972-593a-4cc7-81f9-bd5875add213",
   "metadata": {},
   "outputs": [
    {
     "name": "stdout",
     "output_type": "stream",
     "text": [
      "data type arr1  int32\n",
      "data type arr2  float64\n",
      "data type arr3  int32\n"
     ]
    }
   ],
   "source": [
    "print('data type arr1 ', arr1.dtype) \n",
    "print('data type arr2 ', arr2.dtype)\n",
    "print('data type arr3 ', arr3.dtype)"
   ]
  },
  {
   "cell_type": "code",
   "execution_count": 7,
   "id": "ac1966d2-5f9d-4354-93fa-e6604ae7a229",
   "metadata": {},
   "outputs": [
    {
     "name": "stdout",
     "output_type": "stream",
     "text": [
      "[4 2 1 1 3 2 0 0 0 1]\n"
     ]
    }
   ],
   "source": [
    "import numpy as np\n",
    "arr = np.array([0, 5, 4, 0, 4, 4, 3, 0, 0, 5, 2, 1, 1, 9])\n",
    "print(np.bincount(arr))"
   ]
  },
  {
   "cell_type": "code",
   "execution_count": null,
   "id": "d95f1025-b55e-4d33-8000-5b83352bd672",
   "metadata": {},
   "outputs": [],
   "source": []
  }
 ],
 "metadata": {
  "kernelspec": {
   "display_name": "Python 3 (ipykernel)",
   "language": "python",
   "name": "python3"
  },
  "language_info": {
   "codemirror_mode": {
    "name": "ipython",
    "version": 3
   },
   "file_extension": ".py",
   "mimetype": "text/x-python",
   "name": "python",
   "nbconvert_exporter": "python",
   "pygments_lexer": "ipython3",
   "version": "3.11.6"
  }
 },
 "nbformat": 4,
 "nbformat_minor": 5
}
