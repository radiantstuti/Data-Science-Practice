{
 "cells": [
  {
   "cell_type": "code",
   "execution_count": 1,
   "id": "bc0c7059-09ae-4faf-88e7-2b9e610fe105",
   "metadata": {},
   "outputs": [],
   "source": [
    "import numpy as np\n",
    "import pandas as pd"
   ]
  },
  {
   "cell_type": "code",
   "execution_count": 2,
   "id": "932bd96e-c2b4-4a7f-a0fa-41237f4c95aa",
   "metadata": {},
   "outputs": [],
   "source": [
    "dict1 = {\n",
    "    \"Name\": ['Harry', 'Rohan', 'Skillf', 'Shubh'],\n",
    "    \"Marks\": [90, 80, 87, 78],\n",
    "    \"City\": ['NYC', 'LA', 'NV', 'Chicago']\n",
    "}"
   ]
  },
  {
   "cell_type": "code",
   "execution_count": 3,
   "id": "5e0a8525-7d54-4663-a23c-43ed554bdc3b",
   "metadata": {},
   "outputs": [
    {
     "name": "stdout",
     "output_type": "stream",
     "text": [
      "     Name  Marks     City\n",
      "0   Harry     90      NYC\n",
      "1   Rohan     80       LA\n",
      "2  Skillf     87       NV\n",
      "3   Shubh     78  Chicago\n"
     ]
    }
   ],
   "source": [
    "df = pd.DataFrame(dict1)\n",
    "print(df)"
   ]
  },
  {
   "cell_type": "code",
   "execution_count": 4,
   "id": "5c88b0f5-ef40-4c97-a344-b261c07ae547",
   "metadata": {},
   "outputs": [],
   "source": [
    "df.to_csv('friends.csv')"
   ]
  },
  {
   "cell_type": "code",
   "execution_count": 5,
   "id": "4b805ac2-6b31-4519-b4ab-94d2ea5c02e0",
   "metadata": {},
   "outputs": [],
   "source": [
    "df.to_csv('friends_indexFalse.csv', index = False)"
   ]
  },
  {
   "cell_type": "code",
   "execution_count": 6,
   "id": "9b0048d9-1fb0-4ce1-ab9c-69972bcc7b2c",
   "metadata": {},
   "outputs": [
    {
     "data": {
      "text/html": [
       "<div>\n",
       "<style scoped>\n",
       "    .dataframe tbody tr th:only-of-type {\n",
       "        vertical-align: middle;\n",
       "    }\n",
       "\n",
       "    .dataframe tbody tr th {\n",
       "        vertical-align: top;\n",
       "    }\n",
       "\n",
       "    .dataframe thead th {\n",
       "        text-align: right;\n",
       "    }\n",
       "</style>\n",
       "<table border=\"1\" class=\"dataframe\">\n",
       "  <thead>\n",
       "    <tr style=\"text-align: right;\">\n",
       "      <th></th>\n",
       "      <th>Marks</th>\n",
       "    </tr>\n",
       "  </thead>\n",
       "  <tbody>\n",
       "    <tr>\n",
       "      <th>count</th>\n",
       "      <td>4.000000</td>\n",
       "    </tr>\n",
       "    <tr>\n",
       "      <th>mean</th>\n",
       "      <td>83.750000</td>\n",
       "    </tr>\n",
       "    <tr>\n",
       "      <th>std</th>\n",
       "      <td>5.678908</td>\n",
       "    </tr>\n",
       "    <tr>\n",
       "      <th>min</th>\n",
       "      <td>78.000000</td>\n",
       "    </tr>\n",
       "    <tr>\n",
       "      <th>25%</th>\n",
       "      <td>79.500000</td>\n",
       "    </tr>\n",
       "    <tr>\n",
       "      <th>50%</th>\n",
       "      <td>83.500000</td>\n",
       "    </tr>\n",
       "    <tr>\n",
       "      <th>75%</th>\n",
       "      <td>87.750000</td>\n",
       "    </tr>\n",
       "    <tr>\n",
       "      <th>max</th>\n",
       "      <td>90.000000</td>\n",
       "    </tr>\n",
       "  </tbody>\n",
       "</table>\n",
       "</div>"
      ],
      "text/plain": [
       "           Marks\n",
       "count   4.000000\n",
       "mean   83.750000\n",
       "std     5.678908\n",
       "min    78.000000\n",
       "25%    79.500000\n",
       "50%    83.500000\n",
       "75%    87.750000\n",
       "max    90.000000"
      ]
     },
     "execution_count": 6,
     "metadata": {},
     "output_type": "execute_result"
    }
   ],
   "source": [
    "df.describe()"
   ]
  },
  {
   "cell_type": "code",
   "execution_count": 7,
   "id": "c48d586d-e6b5-4719-9302-601dd4f9fb09",
   "metadata": {},
   "outputs": [],
   "source": [
    "harry = pd.read_csv('harry.csv')"
   ]
  },
  {
   "cell_type": "code",
   "execution_count": 8,
   "id": "cb0e3485-7640-4f84-bc6f-0b6dec83c41a",
   "metadata": {},
   "outputs": [
    {
     "data": {
      "text/html": [
       "<div>\n",
       "<style scoped>\n",
       "    .dataframe tbody tr th:only-of-type {\n",
       "        vertical-align: middle;\n",
       "    }\n",
       "\n",
       "    .dataframe tbody tr th {\n",
       "        vertical-align: top;\n",
       "    }\n",
       "\n",
       "    .dataframe thead th {\n",
       "        text-align: right;\n",
       "    }\n",
       "</style>\n",
       "<table border=\"1\" class=\"dataframe\">\n",
       "  <thead>\n",
       "    <tr style=\"text-align: right;\">\n",
       "      <th></th>\n",
       "      <th>Train No.</th>\n",
       "      <th>Speed</th>\n",
       "      <th>City</th>\n",
       "    </tr>\n",
       "  </thead>\n",
       "  <tbody>\n",
       "    <tr>\n",
       "      <th>0</th>\n",
       "      <td>234</td>\n",
       "      <td>90</td>\n",
       "      <td>NYC</td>\n",
       "    </tr>\n",
       "    <tr>\n",
       "      <th>1</th>\n",
       "      <td>453</td>\n",
       "      <td>80</td>\n",
       "      <td>LA</td>\n",
       "    </tr>\n",
       "    <tr>\n",
       "      <th>2</th>\n",
       "      <td>567</td>\n",
       "      <td>87</td>\n",
       "      <td>NV</td>\n",
       "    </tr>\n",
       "    <tr>\n",
       "      <th>3</th>\n",
       "      <td>226</td>\n",
       "      <td>78</td>\n",
       "      <td>Chicago</td>\n",
       "    </tr>\n",
       "  </tbody>\n",
       "</table>\n",
       "</div>"
      ],
      "text/plain": [
       "   Train No.  Speed     City\n",
       "0        234     90      NYC\n",
       "1        453     80       LA\n",
       "2        567     87       NV\n",
       "3        226     78  Chicago"
      ]
     },
     "execution_count": 8,
     "metadata": {},
     "output_type": "execute_result"
    }
   ],
   "source": [
    "harry"
   ]
  },
  {
   "cell_type": "code",
   "execution_count": 9,
   "id": "d97d5ed9-f60e-461c-97d3-00bef163ea27",
   "metadata": {},
   "outputs": [
    {
     "name": "stderr",
     "output_type": "stream",
     "text": [
      "C:\\Users\\radia\\AppData\\Local\\Temp\\ipykernel_7704\\805298609.py:1: SettingWithCopyWarning: \n",
      "A value is trying to be set on a copy of a slice from a DataFrame\n",
      "\n",
      "See the caveats in the documentation: https://pandas.pydata.org/pandas-docs/stable/user_guide/indexing.html#returning-a-view-versus-a-copy\n",
      "  harry['Speed'][0] = 50\n"
     ]
    }
   ],
   "source": [
    "harry['Speed'][0] = 50 #Changing the value"
   ]
  },
  {
   "cell_type": "code",
   "execution_count": 10,
   "id": "461b419d-6325-45bf-a2eb-720e72d8c910",
   "metadata": {},
   "outputs": [
    {
     "data": {
      "text/html": [
       "<div>\n",
       "<style scoped>\n",
       "    .dataframe tbody tr th:only-of-type {\n",
       "        vertical-align: middle;\n",
       "    }\n",
       "\n",
       "    .dataframe tbody tr th {\n",
       "        vertical-align: top;\n",
       "    }\n",
       "\n",
       "    .dataframe thead th {\n",
       "        text-align: right;\n",
       "    }\n",
       "</style>\n",
       "<table border=\"1\" class=\"dataframe\">\n",
       "  <thead>\n",
       "    <tr style=\"text-align: right;\">\n",
       "      <th></th>\n",
       "      <th>Train No.</th>\n",
       "      <th>Speed</th>\n",
       "      <th>City</th>\n",
       "    </tr>\n",
       "  </thead>\n",
       "  <tbody>\n",
       "    <tr>\n",
       "      <th>0</th>\n",
       "      <td>234</td>\n",
       "      <td>50</td>\n",
       "      <td>NYC</td>\n",
       "    </tr>\n",
       "    <tr>\n",
       "      <th>1</th>\n",
       "      <td>453</td>\n",
       "      <td>80</td>\n",
       "      <td>LA</td>\n",
       "    </tr>\n",
       "    <tr>\n",
       "      <th>2</th>\n",
       "      <td>567</td>\n",
       "      <td>87</td>\n",
       "      <td>NV</td>\n",
       "    </tr>\n",
       "    <tr>\n",
       "      <th>3</th>\n",
       "      <td>226</td>\n",
       "      <td>78</td>\n",
       "      <td>Chicago</td>\n",
       "    </tr>\n",
       "  </tbody>\n",
       "</table>\n",
       "</div>"
      ],
      "text/plain": [
       "   Train No.  Speed     City\n",
       "0        234     50      NYC\n",
       "1        453     80       LA\n",
       "2        567     87       NV\n",
       "3        226     78  Chicago"
      ]
     },
     "execution_count": 10,
     "metadata": {},
     "output_type": "execute_result"
    }
   ],
   "source": [
    "harry"
   ]
  },
  {
   "cell_type": "code",
   "execution_count": 14,
   "id": "84bacbfd-5aa8-4060-93f0-c73ea945ef7b",
   "metadata": {},
   "outputs": [],
   "source": [
    "harry.index = ['first', 'second', 'third', 'fourth']"
   ]
  },
  {
   "cell_type": "code",
   "execution_count": 15,
   "id": "cc37c9ab-8e91-4e8e-8a3a-ff932e5b0dda",
   "metadata": {},
   "outputs": [
    {
     "data": {
      "text/html": [
       "<div>\n",
       "<style scoped>\n",
       "    .dataframe tbody tr th:only-of-type {\n",
       "        vertical-align: middle;\n",
       "    }\n",
       "\n",
       "    .dataframe tbody tr th {\n",
       "        vertical-align: top;\n",
       "    }\n",
       "\n",
       "    .dataframe thead th {\n",
       "        text-align: right;\n",
       "    }\n",
       "</style>\n",
       "<table border=\"1\" class=\"dataframe\">\n",
       "  <thead>\n",
       "    <tr style=\"text-align: right;\">\n",
       "      <th></th>\n",
       "      <th>Train No.</th>\n",
       "      <th>Speed</th>\n",
       "      <th>City</th>\n",
       "    </tr>\n",
       "  </thead>\n",
       "  <tbody>\n",
       "    <tr>\n",
       "      <th>first</th>\n",
       "      <td>234</td>\n",
       "      <td>50</td>\n",
       "      <td>NYC</td>\n",
       "    </tr>\n",
       "    <tr>\n",
       "      <th>second</th>\n",
       "      <td>453</td>\n",
       "      <td>80</td>\n",
       "      <td>LA</td>\n",
       "    </tr>\n",
       "    <tr>\n",
       "      <th>third</th>\n",
       "      <td>567</td>\n",
       "      <td>87</td>\n",
       "      <td>NV</td>\n",
       "    </tr>\n",
       "    <tr>\n",
       "      <th>fourth</th>\n",
       "      <td>226</td>\n",
       "      <td>78</td>\n",
       "      <td>Chicago</td>\n",
       "    </tr>\n",
       "  </tbody>\n",
       "</table>\n",
       "</div>"
      ],
      "text/plain": [
       "        Train No.  Speed     City\n",
       "first         234     50      NYC\n",
       "second        453     80       LA\n",
       "third         567     87       NV\n",
       "fourth        226     78  Chicago"
      ]
     },
     "execution_count": 15,
     "metadata": {},
     "output_type": "execute_result"
    }
   ],
   "source": [
    "harry"
   ]
  },
  {
   "cell_type": "code",
   "execution_count": 18,
   "id": "3211a04a-8e40-447a-8876-8635c8e109bc",
   "metadata": {},
   "outputs": [],
   "source": [
    "ser = pd.Series(np.random.rand(34))"
   ]
  },
  {
   "cell_type": "code",
   "execution_count": 19,
   "id": "39815b9e-f60b-4908-a5f7-0479586934cc",
   "metadata": {},
   "outputs": [
    {
     "data": {
      "text/plain": [
       "0     0.913357\n",
       "1     0.115897\n",
       "2     0.965545\n",
       "3     0.359130\n",
       "4     0.484466\n",
       "5     0.441979\n",
       "6     0.305654\n",
       "7     0.174516\n",
       "8     0.156384\n",
       "9     0.987814\n",
       "10    0.684805\n",
       "11    0.364756\n",
       "12    0.897894\n",
       "13    0.487178\n",
       "14    0.951926\n",
       "15    0.497743\n",
       "16    0.029445\n",
       "17    0.196182\n",
       "18    0.445873\n",
       "19    0.048498\n",
       "20    0.019761\n",
       "21    0.434762\n",
       "22    0.303966\n",
       "23    0.158994\n",
       "24    0.123053\n",
       "25    0.576128\n",
       "26    0.050052\n",
       "27    0.776171\n",
       "28    0.299037\n",
       "29    0.928026\n",
       "30    0.319520\n",
       "31    0.049996\n",
       "32    0.796650\n",
       "33    0.930549\n",
       "dtype: float64"
      ]
     },
     "execution_count": 19,
     "metadata": {},
     "output_type": "execute_result"
    }
   ],
   "source": [
    "ser"
   ]
  },
  {
   "cell_type": "code",
   "execution_count": 20,
   "id": "648e9e8d-368d-4222-85b3-37ac74e88c89",
   "metadata": {},
   "outputs": [
    {
     "data": {
      "text/plain": [
       "pandas.core.series.Series"
      ]
     },
     "execution_count": 20,
     "metadata": {},
     "output_type": "execute_result"
    }
   ],
   "source": [
    "type(ser)"
   ]
  },
  {
   "cell_type": "code",
   "execution_count": 21,
   "id": "26d5df8b-c96c-41e9-a199-3b0b293da0de",
   "metadata": {},
   "outputs": [],
   "source": [
    "newdf = pd.DataFrame(np.random.rand(334,5), index = np.arange(334))"
   ]
  },
  {
   "cell_type": "code",
   "execution_count": 22,
   "id": "66ec38e8-b237-4aa4-9d2c-ed80f8869c06",
   "metadata": {},
   "outputs": [
    {
     "data": {
      "text/html": [
       "<div>\n",
       "<style scoped>\n",
       "    .dataframe tbody tr th:only-of-type {\n",
       "        vertical-align: middle;\n",
       "    }\n",
       "\n",
       "    .dataframe tbody tr th {\n",
       "        vertical-align: top;\n",
       "    }\n",
       "\n",
       "    .dataframe thead th {\n",
       "        text-align: right;\n",
       "    }\n",
       "</style>\n",
       "<table border=\"1\" class=\"dataframe\">\n",
       "  <thead>\n",
       "    <tr style=\"text-align: right;\">\n",
       "      <th></th>\n",
       "      <th>0</th>\n",
       "      <th>1</th>\n",
       "      <th>2</th>\n",
       "      <th>3</th>\n",
       "      <th>4</th>\n",
       "    </tr>\n",
       "  </thead>\n",
       "  <tbody>\n",
       "    <tr>\n",
       "      <th>0</th>\n",
       "      <td>0.562937</td>\n",
       "      <td>0.985502</td>\n",
       "      <td>0.960869</td>\n",
       "      <td>0.785298</td>\n",
       "      <td>0.303772</td>\n",
       "    </tr>\n",
       "    <tr>\n",
       "      <th>1</th>\n",
       "      <td>0.322223</td>\n",
       "      <td>0.987531</td>\n",
       "      <td>0.466512</td>\n",
       "      <td>0.727997</td>\n",
       "      <td>0.376783</td>\n",
       "    </tr>\n",
       "    <tr>\n",
       "      <th>2</th>\n",
       "      <td>0.342360</td>\n",
       "      <td>0.330434</td>\n",
       "      <td>0.914029</td>\n",
       "      <td>0.292106</td>\n",
       "      <td>0.858321</td>\n",
       "    </tr>\n",
       "    <tr>\n",
       "      <th>3</th>\n",
       "      <td>0.868118</td>\n",
       "      <td>0.012459</td>\n",
       "      <td>0.061197</td>\n",
       "      <td>0.664781</td>\n",
       "      <td>0.765334</td>\n",
       "    </tr>\n",
       "    <tr>\n",
       "      <th>4</th>\n",
       "      <td>0.526704</td>\n",
       "      <td>0.539385</td>\n",
       "      <td>0.342201</td>\n",
       "      <td>0.538112</td>\n",
       "      <td>0.982671</td>\n",
       "    </tr>\n",
       "    <tr>\n",
       "      <th>...</th>\n",
       "      <td>...</td>\n",
       "      <td>...</td>\n",
       "      <td>...</td>\n",
       "      <td>...</td>\n",
       "      <td>...</td>\n",
       "    </tr>\n",
       "    <tr>\n",
       "      <th>329</th>\n",
       "      <td>0.133253</td>\n",
       "      <td>0.255163</td>\n",
       "      <td>0.924363</td>\n",
       "      <td>0.386465</td>\n",
       "      <td>0.425541</td>\n",
       "    </tr>\n",
       "    <tr>\n",
       "      <th>330</th>\n",
       "      <td>0.706032</td>\n",
       "      <td>0.219213</td>\n",
       "      <td>0.429069</td>\n",
       "      <td>0.072354</td>\n",
       "      <td>0.425575</td>\n",
       "    </tr>\n",
       "    <tr>\n",
       "      <th>331</th>\n",
       "      <td>0.247131</td>\n",
       "      <td>0.732504</td>\n",
       "      <td>0.150240</td>\n",
       "      <td>0.499168</td>\n",
       "      <td>0.255064</td>\n",
       "    </tr>\n",
       "    <tr>\n",
       "      <th>332</th>\n",
       "      <td>0.560234</td>\n",
       "      <td>0.854469</td>\n",
       "      <td>0.413583</td>\n",
       "      <td>0.248784</td>\n",
       "      <td>0.156416</td>\n",
       "    </tr>\n",
       "    <tr>\n",
       "      <th>333</th>\n",
       "      <td>0.798771</td>\n",
       "      <td>0.622717</td>\n",
       "      <td>0.155903</td>\n",
       "      <td>0.387558</td>\n",
       "      <td>0.822150</td>\n",
       "    </tr>\n",
       "  </tbody>\n",
       "</table>\n",
       "<p>334 rows × 5 columns</p>\n",
       "</div>"
      ],
      "text/plain": [
       "            0         1         2         3         4\n",
       "0    0.562937  0.985502  0.960869  0.785298  0.303772\n",
       "1    0.322223  0.987531  0.466512  0.727997  0.376783\n",
       "2    0.342360  0.330434  0.914029  0.292106  0.858321\n",
       "3    0.868118  0.012459  0.061197  0.664781  0.765334\n",
       "4    0.526704  0.539385  0.342201  0.538112  0.982671\n",
       "..        ...       ...       ...       ...       ...\n",
       "329  0.133253  0.255163  0.924363  0.386465  0.425541\n",
       "330  0.706032  0.219213  0.429069  0.072354  0.425575\n",
       "331  0.247131  0.732504  0.150240  0.499168  0.255064\n",
       "332  0.560234  0.854469  0.413583  0.248784  0.156416\n",
       "333  0.798771  0.622717  0.155903  0.387558  0.822150\n",
       "\n",
       "[334 rows x 5 columns]"
      ]
     },
     "execution_count": 22,
     "metadata": {},
     "output_type": "execute_result"
    }
   ],
   "source": [
    "newdf"
   ]
  },
  {
   "cell_type": "code",
   "execution_count": 23,
   "id": "e2a10299-d1a8-4af9-b928-9ed3ce0bf5a8",
   "metadata": {},
   "outputs": [
    {
     "data": {
      "text/plain": [
       "pandas.core.frame.DataFrame"
      ]
     },
     "execution_count": 23,
     "metadata": {},
     "output_type": "execute_result"
    }
   ],
   "source": [
    "type(newdf)"
   ]
  },
  {
   "cell_type": "code",
   "execution_count": 24,
   "id": "b6977284-7d3a-4d74-b981-86b0a1bdd0c4",
   "metadata": {},
   "outputs": [
    {
     "data": {
      "text/html": [
       "<div>\n",
       "<style scoped>\n",
       "    .dataframe tbody tr th:only-of-type {\n",
       "        vertical-align: middle;\n",
       "    }\n",
       "\n",
       "    .dataframe tbody tr th {\n",
       "        vertical-align: top;\n",
       "    }\n",
       "\n",
       "    .dataframe thead th {\n",
       "        text-align: right;\n",
       "    }\n",
       "</style>\n",
       "<table border=\"1\" class=\"dataframe\">\n",
       "  <thead>\n",
       "    <tr style=\"text-align: right;\">\n",
       "      <th></th>\n",
       "      <th>0</th>\n",
       "      <th>1</th>\n",
       "      <th>2</th>\n",
       "      <th>3</th>\n",
       "      <th>4</th>\n",
       "    </tr>\n",
       "  </thead>\n",
       "  <tbody>\n",
       "    <tr>\n",
       "      <th>count</th>\n",
       "      <td>334.000000</td>\n",
       "      <td>334.000000</td>\n",
       "      <td>334.000000</td>\n",
       "      <td>334.000000</td>\n",
       "      <td>334.000000</td>\n",
       "    </tr>\n",
       "    <tr>\n",
       "      <th>mean</th>\n",
       "      <td>0.502254</td>\n",
       "      <td>0.519417</td>\n",
       "      <td>0.493151</td>\n",
       "      <td>0.521917</td>\n",
       "      <td>0.504724</td>\n",
       "    </tr>\n",
       "    <tr>\n",
       "      <th>std</th>\n",
       "      <td>0.286254</td>\n",
       "      <td>0.284613</td>\n",
       "      <td>0.285145</td>\n",
       "      <td>0.276494</td>\n",
       "      <td>0.303260</td>\n",
       "    </tr>\n",
       "    <tr>\n",
       "      <th>min</th>\n",
       "      <td>0.007856</td>\n",
       "      <td>0.002951</td>\n",
       "      <td>0.003438</td>\n",
       "      <td>0.004533</td>\n",
       "      <td>0.000573</td>\n",
       "    </tr>\n",
       "    <tr>\n",
       "      <th>25%</th>\n",
       "      <td>0.253480</td>\n",
       "      <td>0.261470</td>\n",
       "      <td>0.251144</td>\n",
       "      <td>0.287256</td>\n",
       "      <td>0.244499</td>\n",
       "    </tr>\n",
       "    <tr>\n",
       "      <th>50%</th>\n",
       "      <td>0.511629</td>\n",
       "      <td>0.532667</td>\n",
       "      <td>0.501618</td>\n",
       "      <td>0.531645</td>\n",
       "      <td>0.494811</td>\n",
       "    </tr>\n",
       "    <tr>\n",
       "      <th>75%</th>\n",
       "      <td>0.742096</td>\n",
       "      <td>0.745220</td>\n",
       "      <td>0.722231</td>\n",
       "      <td>0.749475</td>\n",
       "      <td>0.792571</td>\n",
       "    </tr>\n",
       "    <tr>\n",
       "      <th>max</th>\n",
       "      <td>0.998763</td>\n",
       "      <td>0.997806</td>\n",
       "      <td>0.998916</td>\n",
       "      <td>0.994431</td>\n",
       "      <td>0.998552</td>\n",
       "    </tr>\n",
       "  </tbody>\n",
       "</table>\n",
       "</div>"
      ],
      "text/plain": [
       "                0           1           2           3           4\n",
       "count  334.000000  334.000000  334.000000  334.000000  334.000000\n",
       "mean     0.502254    0.519417    0.493151    0.521917    0.504724\n",
       "std      0.286254    0.284613    0.285145    0.276494    0.303260\n",
       "min      0.007856    0.002951    0.003438    0.004533    0.000573\n",
       "25%      0.253480    0.261470    0.251144    0.287256    0.244499\n",
       "50%      0.511629    0.532667    0.501618    0.531645    0.494811\n",
       "75%      0.742096    0.745220    0.722231    0.749475    0.792571\n",
       "max      0.998763    0.997806    0.998916    0.994431    0.998552"
      ]
     },
     "execution_count": 24,
     "metadata": {},
     "output_type": "execute_result"
    }
   ],
   "source": [
    "newdf.describe()"
   ]
  },
  {
   "cell_type": "code",
   "execution_count": null,
   "id": "1f538bac-cea4-4663-aee8-e022e7f7493a",
   "metadata": {},
   "outputs": [],
   "source": []
  }
 ],
 "metadata": {
  "kernelspec": {
   "display_name": "Python 3 (ipykernel)",
   "language": "python",
   "name": "python3"
  },
  "language_info": {
   "codemirror_mode": {
    "name": "ipython",
    "version": 3
   },
   "file_extension": ".py",
   "mimetype": "text/x-python",
   "name": "python",
   "nbconvert_exporter": "python",
   "pygments_lexer": "ipython3",
   "version": "3.11.6"
  }
 },
 "nbformat": 4,
 "nbformat_minor": 5
}
