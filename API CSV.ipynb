{
 "cells": [
  {
   "cell_type": "code",
   "execution_count": null,
   "id": "e37a0d71-40b1-425e-897c-39c79ac9ee53",
   "metadata": {},
   "outputs": [],
   "source": [
    "import requests\n",
    "api_url = 'https://example.com/api/data.csv'\n",
    "\n",
    "try:\n",
    "    response = requests.get(api_url)\n",
    "\n",
    "    if response.status_code == 200:\n",
    "        csv_file_path = 'downloaded_data.csv'\n",
    "\n",
    "        # Write the content to a local CSV file\n",
    "        with open(csv_file_path, 'wb') as file:\n",
    "            file.write(response.content)\n",
    "\n",
    "        print(f\"CSV file downloaded and saved as {csv_file_path}\")\n",
    "    else:\n",
    "        print(f\"Failed to download the CSV. Status code: {response.status_code}\")\n",
    "\n",
    "except requests.exceptions.RequestException as e:\n",
    "    print(f\"An error occurred: {e}\")\n"
   ]
  },
  {
   "cell_type": "code",
   "execution_count": 18,
   "id": "1bde6e17-12e7-493c-9204-997d3be320e0",
   "metadata": {},
   "outputs": [
    {
     "name": "stdout",
     "output_type": "stream",
     "text": [
      "CSV file downloaded and saved as current_weather.csv\n"
     ]
    }
   ],
   "source": [
    "import requests\n",
    "import json\n",
    "import csv\n",
    "\n",
    "api_url = 'http://api.weatherstack.com/current?access_key=20ce3af8809c876ce20c3473682384a3&query=New York'\n",
    "\n",
    "try:\n",
    "    response = requests.get(api_url)\n",
    "\n",
    "    if response.status_code == 200:        \n",
    "        json_data = response.content.decode('utf-8')  # Decode bytes to a JSON string\n",
    "        data = json.loads(json_data)\n",
    "        current_data = data.get('current', {})\n",
    "        csv_file_path = 'current_weather.csv'\n",
    "        field_names = ['observation_time', 'temperature', 'weather_code', 'weather_icons', 'weather_descriptions', 'wind_speed']\n",
    "        with open(csv_file_path, 'w', newline='') as csv_file:\n",
    "            writer = csv.DictWriter(csv_file, fieldnames=field_names)\n",
    "            writer.writeheader()\n",
    "            writer.writerow({\n",
    "                'observation_time': current_data.get('observation_time'),\n",
    "                'temperature': current_data.get('temperature'),\n",
    "                'weather_code': current_data.get('weather_code'),\n",
    "                'weather_icons': ','.join(current_data.get('weather_icons', [])),\n",
    "                'weather_descriptions': ','.join(current_data.get('weather_descriptions', [])),\n",
    "                'wind_speed': current_data.get('wind_speed')\n",
    "            })\n",
    "\n",
    "        print(f\"CSV file downloaded and saved as {csv_file_path}\")\n",
    "    else:\n",
    "        print(f\"Failed to download the CSV. Status code: {response.status_code}\")\n",
    "\n",
    "except requests.exceptions.RequestException as e:\n",
    "    print(f\"An error occurred: {e}\")\n"
   ]
  },
  {
   "cell_type": "code",
   "execution_count": 3,
   "id": "b7bdf0b9-0f6c-493f-8222-beb12c829d45",
   "metadata": {},
   "outputs": [],
   "source": [
    "import pandas as pd\n",
    "import urllib.request\n",
    "import csv\n",
    "import codecs"
   ]
  },
  {
   "cell_type": "code",
   "execution_count": 26,
   "id": "5d98c95b-627d-41f6-8db2-ef18f52b75bf",
   "metadata": {},
   "outputs": [
    {
     "name": "stdout",
     "output_type": "stream",
     "text": [
      "<module 'urllib.response' from 'C:\\\\Program Files\\\\WindowsApps\\\\PythonSoftwareFoundation.Python.3.11_3.11.1776.0_x64__qbz5n2kfra8p0\\\\Lib\\\\urllib\\\\response.py'>\n"
     ]
    }
   ],
   "source": [
    "import pandas as pd\n",
    "import urllib.request\n",
    "import csv\n",
    "import codecs\n",
    "try:\n",
    "    url = \"https://github.com/dataquestio/project-walkthroughs/blob/master/weather/local_weather.csv\"\n",
    "    filepath = \"c:/Projects/weather123.csv\"\n",
    "    urllib.request.urlretrieve(url, filepath)\n",
    "    print(urllib.response)\n",
    "#except request.exceptions.RequestException as e:\n",
    "except urllib.error.URLError as e:\n",
    "    print(\"Error\", e)"
   ]
  },
  {
   "cell_type": "code",
   "execution_count": null,
   "id": "73f3fc1a-96e6-4087-9337-618a3e57c487",
   "metadata": {},
   "outputs": [],
   "source": []
  }
 ],
 "metadata": {
  "kernelspec": {
   "display_name": "Python 3 (ipykernel)",
   "language": "python",
   "name": "python3"
  },
  "language_info": {
   "codemirror_mode": {
    "name": "ipython",
    "version": 3
   },
   "file_extension": ".py",
   "mimetype": "text/x-python",
   "name": "python",
   "nbconvert_exporter": "python",
   "pygments_lexer": "ipython3",
   "version": "3.11.6"
  }
 },
 "nbformat": 4,
 "nbformat_minor": 5
}
