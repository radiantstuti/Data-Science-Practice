{
 "cells": [
  {
   "cell_type": "code",
   "execution_count": 1,
   "id": "b784d52c-4e56-4f68-928c-c1015b699f5f",
   "metadata": {},
   "outputs": [],
   "source": [
    "import pandas as pd"
   ]
  },
  {
   "cell_type": "code",
   "execution_count": 2,
   "id": "c6b3ccd9-6fb7-459a-b326-8b5a25ffc52c",
   "metadata": {},
   "outputs": [
    {
     "name": "stdout",
     "output_type": "stream",
     "text": [
      "                STATION                              NAME  ACMH   ACSH   AWND  \\\n",
      "DATE                                                                            \n",
      "1970-01-01  USW00094789  JFK INTERNATIONAL AIRPORT, NY US  80.0   90.0    NaN   \n",
      "1970-01-02  USW00094789  JFK INTERNATIONAL AIRPORT, NY US  30.0   20.0    NaN   \n",
      "1970-01-03  USW00094789  JFK INTERNATIONAL AIRPORT, NY US  80.0  100.0    NaN   \n",
      "1970-01-04  USW00094789  JFK INTERNATIONAL AIRPORT, NY US  10.0   20.0    NaN   \n",
      "1970-01-05  USW00094789  JFK INTERNATIONAL AIRPORT, NY US  30.0   10.0    NaN   \n",
      "...                 ...                               ...   ...    ...    ...   \n",
      "2022-10-17  USW00094789  JFK INTERNATIONAL AIRPORT, NY US   NaN    NaN   9.62   \n",
      "2022-10-18  USW00094789  JFK INTERNATIONAL AIRPORT, NY US   NaN    NaN  12.08   \n",
      "2022-10-19  USW00094789  JFK INTERNATIONAL AIRPORT, NY US   NaN    NaN  14.99   \n",
      "2022-10-20  USW00094789  JFK INTERNATIONAL AIRPORT, NY US   NaN    NaN  16.78   \n",
      "2022-10-21  USW00094789  JFK INTERNATIONAL AIRPORT, NY US   NaN    NaN    NaN   \n",
      "\n",
      "            FMTM  PGTM  PRCP  SNOW  SNWD  ...  WT11  WT13  WT14  WT15  WT16  \\\n",
      "DATE                                      ...                                 \n",
      "1970-01-01   NaN   NaN  0.00   0.0   0.0  ...   NaN   NaN   NaN   NaN   NaN   \n",
      "1970-01-02   NaN   NaN  0.00   0.0   0.0  ...   NaN   NaN   NaN   NaN   NaN   \n",
      "1970-01-03   NaN   NaN  0.02   0.0   0.0  ...   NaN   NaN   NaN   NaN   1.0   \n",
      "1970-01-04   NaN   NaN  0.00   0.0   0.0  ...   NaN   NaN   NaN   NaN   NaN   \n",
      "1970-01-05   NaN   NaN  0.00   0.0   0.0  ...   NaN   NaN   NaN   NaN   NaN   \n",
      "...          ...   ...   ...   ...   ...  ...   ...   ...   ...   ...   ...   \n",
      "2022-10-17   NaN   NaN  0.08   0.0   0.0  ...   NaN   NaN   NaN   NaN   NaN   \n",
      "2022-10-18   NaN   NaN  0.00   0.0   0.0  ...   NaN   NaN   NaN   NaN   NaN   \n",
      "2022-10-19   NaN   NaN  0.00   0.0   0.0  ...   NaN   NaN   NaN   NaN   NaN   \n",
      "2022-10-20   NaN  10.0  0.00   0.0   0.0  ...   NaN   NaN   NaN   NaN   NaN   \n",
      "2022-10-21   NaN   NaN  0.00   0.0   0.0  ...   NaN   NaN   NaN   NaN   NaN   \n",
      "\n",
      "            WT17  WT18  WT21  WT22  WV01  \n",
      "DATE                                      \n",
      "1970-01-01   NaN   NaN   NaN   NaN   NaN  \n",
      "1970-01-02   NaN   NaN   NaN   NaN   NaN  \n",
      "1970-01-03   NaN   1.0   NaN   NaN   NaN  \n",
      "1970-01-04   NaN   1.0   NaN   NaN   NaN  \n",
      "1970-01-05   NaN   NaN   NaN   NaN   NaN  \n",
      "...          ...   ...   ...   ...   ...  \n",
      "2022-10-17   NaN   NaN   NaN   NaN   NaN  \n",
      "2022-10-18   NaN   NaN   NaN   NaN   NaN  \n",
      "2022-10-19   NaN   NaN   NaN   NaN   NaN  \n",
      "2022-10-20   NaN   NaN   NaN   NaN   NaN  \n",
      "2022-10-21   NaN   NaN   NaN   NaN   NaN  \n",
      "\n",
      "[19287 rows x 44 columns]\n"
     ]
    }
   ],
   "source": [
    "weather = pd.read_csv(\"weather.csv\", index_col = \"DATE\")\n",
    "print(weather)"
   ]
  },
  {
   "cell_type": "code",
   "execution_count": 3,
   "id": "9b4f59bd-73f0-4064-9ff1-db3ef46f4bf5",
   "metadata": {},
   "outputs": [
    {
     "data": {
      "text/plain": [
       "STATION    0.000000\n",
       "NAME       0.000000\n",
       "ACMH       0.501478\n",
       "ACSH       0.501426\n",
       "AWND       0.265256\n",
       "FMTM       0.475087\n",
       "PGTM       0.363872\n",
       "PRCP       0.000000\n",
       "SNOW       0.000000\n",
       "SNWD       0.000104\n",
       "TAVG       0.680406\n",
       "TMAX       0.000000\n",
       "TMIN       0.000000\n",
       "TSUN       0.998393\n",
       "WDF1       0.501685\n",
       "WDF2       0.498678\n",
       "WDF5       0.502981\n",
       "WDFG       0.734484\n",
       "WDFM       0.999948\n",
       "WESD       0.685228\n",
       "WSF1       0.501530\n",
       "WSF2       0.498678\n",
       "WSF5       0.503033\n",
       "WSFG       0.613055\n",
       "WSFM       0.999948\n",
       "WT01       0.630217\n",
       "WT02       0.935034\n",
       "WT03       0.933271\n",
       "WT04       0.982579\n",
       "WT05       0.981127\n",
       "WT06       0.990615\n",
       "WT07       0.994400\n",
       "WT08       0.796962\n",
       "WT09       0.992741\n",
       "WT11       0.999274\n",
       "WT13       0.886711\n",
       "WT14       0.954010\n",
       "WT15       0.997822\n",
       "WT16       0.658993\n",
       "WT17       0.996889\n",
       "WT18       0.939493\n",
       "WT21       0.999741\n",
       "WT22       0.997459\n",
       "WV01       0.999948\n",
       "dtype: float64"
      ]
     },
     "execution_count": 3,
     "metadata": {},
     "output_type": "execute_result"
    }
   ],
   "source": [
    "null_pct = weather.apply(pd.isnull).sum()/weather.shape[0]\n",
    "null_pct"
   ]
  },
  {
   "cell_type": "code",
   "execution_count": 4,
   "id": "6a03d29f-9f80-41a7-b583-780b40ecb18a",
   "metadata": {},
   "outputs": [
    {
     "name": "stdout",
     "output_type": "stream",
     "text": [
      "Index(['STATION', 'NAME', 'PRCP', 'SNOW', 'SNWD', 'TMAX', 'TMIN'], dtype='object')\n"
     ]
    }
   ],
   "source": [
    "valid_columns = weather.columns[null_pct < .05]\n",
    "print(valid_columns)"
   ]
  },
  {
   "cell_type": "code",
   "execution_count": 5,
   "id": "f09430ee-6a5b-40b8-bb65-ab1add6dfe1b",
   "metadata": {},
   "outputs": [
    {
     "name": "stdout",
     "output_type": "stream",
     "text": [
      "                STATION                              NAME  PRCP  SNOW  SNWD  \\\n",
      "DATE                                                                          \n",
      "1970-01-01  USW00094789  JFK INTERNATIONAL AIRPORT, NY US  0.00   0.0   0.0   \n",
      "1970-01-02  USW00094789  JFK INTERNATIONAL AIRPORT, NY US  0.00   0.0   0.0   \n",
      "1970-01-03  USW00094789  JFK INTERNATIONAL AIRPORT, NY US  0.02   0.0   0.0   \n",
      "1970-01-04  USW00094789  JFK INTERNATIONAL AIRPORT, NY US  0.00   0.0   0.0   \n",
      "1970-01-05  USW00094789  JFK INTERNATIONAL AIRPORT, NY US  0.00   0.0   0.0   \n",
      "...                 ...                               ...   ...   ...   ...   \n",
      "2022-10-17  USW00094789  JFK INTERNATIONAL AIRPORT, NY US  0.08   0.0   0.0   \n",
      "2022-10-18  USW00094789  JFK INTERNATIONAL AIRPORT, NY US  0.00   0.0   0.0   \n",
      "2022-10-19  USW00094789  JFK INTERNATIONAL AIRPORT, NY US  0.00   0.0   0.0   \n",
      "2022-10-20  USW00094789  JFK INTERNATIONAL AIRPORT, NY US  0.00   0.0   0.0   \n",
      "2022-10-21  USW00094789  JFK INTERNATIONAL AIRPORT, NY US  0.00   0.0   0.0   \n",
      "\n",
      "            TMAX  TMIN  \n",
      "DATE                    \n",
      "1970-01-01    28    22  \n",
      "1970-01-02    31    22  \n",
      "1970-01-03    38    25  \n",
      "1970-01-04    31    23  \n",
      "1970-01-05    35    21  \n",
      "...          ...   ...  \n",
      "2022-10-17    67    54  \n",
      "2022-10-18    58    48  \n",
      "2022-10-19    56    43  \n",
      "2022-10-20    61    44  \n",
      "2022-10-21    64    43  \n",
      "\n",
      "[19287 rows x 7 columns]\n"
     ]
    }
   ],
   "source": [
    "core_weather = weather[valid_columns].copy()\n",
    "print(core_weather)"
   ]
  },
  {
   "cell_type": "code",
   "execution_count": 6,
   "id": "56e49327-d103-4ac6-96c7-14d3c96f1103",
   "metadata": {},
   "outputs": [
    {
     "data": {
      "text/plain": [
       "STATION    0.000000\n",
       "NAME       0.000000\n",
       "PRCP       0.000000\n",
       "SNOW       0.000000\n",
       "SNWD       0.000104\n",
       "TMAX       0.000000\n",
       "TMIN       0.000000\n",
       "dtype: float64"
      ]
     },
     "execution_count": 6,
     "metadata": {},
     "output_type": "execute_result"
    }
   ],
   "source": [
    "#Finding null values\n",
    "core_weather.apply(pd.isnull).sum()/core_weather.shape[0]"
   ]
  },
  {
   "cell_type": "code",
   "execution_count": 8,
   "id": "c043c033-3c7d-412d-95ba-daf75c7a36e6",
   "metadata": {},
   "outputs": [
    {
     "data": {
      "text/plain": [
       "SNOW\n",
       "0.0     18590\n",
       "0.1        95\n",
       "0.3        63\n",
       "0.2        62\n",
       "0.4        39\n",
       "        ...  \n",
       "10.8        1\n",
       "9.0         1\n",
       "6.4         1\n",
       "6.1         1\n",
       "9.3         1\n",
       "Name: count, Length: 92, dtype: int64"
      ]
     },
     "execution_count": 8,
     "metadata": {},
     "output_type": "execute_result"
    }
   ],
   "source": [
    "core_weather[\"SNOW\"].value_counts()"
   ]
  },
  {
   "cell_type": "code",
   "execution_count": 9,
   "id": "3067ce36-7ae0-4001-bae8-0001aa7eb76d",
   "metadata": {},
   "outputs": [],
   "source": [
    "del core_weather[\"SNOW\"]"
   ]
  },
  {
   "cell_type": "code",
   "execution_count": 10,
   "id": "9801b290-eaf4-4882-ab5a-41a7940b2859",
   "metadata": {},
   "outputs": [
    {
     "data": {
      "text/plain": [
       "SNWD\n",
       "0.0     18313\n",
       "1.0       223\n",
       "2.0       189\n",
       "3.0        98\n",
       "4.0        61\n",
       "1.2        50\n",
       "6.0        46\n",
       "5.0        44\n",
       "7.0        27\n",
       "8.0        26\n",
       "5.1        21\n",
       "9.0        18\n",
       "3.1        17\n",
       "7.1        17\n",
       "11.0       15\n",
       "10.0       13\n",
       "3.9        13\n",
       "5.9        13\n",
       "7.9        12\n",
       "9.1        11\n",
       "12.0       11\n",
       "14.0        9\n",
       "9.8         8\n",
       "13.0        5\n",
       "17.0        4\n",
       "19.0        3\n",
       "16.0        3\n",
       "22.0        3\n",
       "15.0        2\n",
       "26.0        2\n",
       "28.0        2\n",
       "18.0        2\n",
       "21.0        2\n",
       "23.0        1\n",
       "11.8        1\n",
       "Name: count, dtype: int64"
      ]
     },
     "execution_count": 10,
     "metadata": {},
     "output_type": "execute_result"
    }
   ],
   "source": [
    "core_weather[\"SNWD\"].value_counts()"
   ]
  },
  {
   "cell_type": "code",
   "execution_count": 11,
   "id": "70a0a30a-80ca-4898-b789-b1b5784d9c7e",
   "metadata": {},
   "outputs": [],
   "source": [
    "del core_weather[\"SNWD\"]"
   ]
  },
  {
   "cell_type": "code",
   "execution_count": 12,
   "id": "a079ac79-4a8b-41f5-a7fc-581380456aad",
   "metadata": {},
   "outputs": [
    {
     "data": {
      "text/html": [
       "<div>\n",
       "<style scoped>\n",
       "    .dataframe tbody tr th:only-of-type {\n",
       "        vertical-align: middle;\n",
       "    }\n",
       "\n",
       "    .dataframe tbody tr th {\n",
       "        vertical-align: top;\n",
       "    }\n",
       "\n",
       "    .dataframe thead th {\n",
       "        text-align: right;\n",
       "    }\n",
       "</style>\n",
       "<table border=\"1\" class=\"dataframe\">\n",
       "  <thead>\n",
       "    <tr style=\"text-align: right;\">\n",
       "      <th></th>\n",
       "      <th>STATION</th>\n",
       "      <th>NAME</th>\n",
       "      <th>PRCP</th>\n",
       "      <th>TMAX</th>\n",
       "      <th>TMIN</th>\n",
       "    </tr>\n",
       "    <tr>\n",
       "      <th>DATE</th>\n",
       "      <th></th>\n",
       "      <th></th>\n",
       "      <th></th>\n",
       "      <th></th>\n",
       "      <th></th>\n",
       "    </tr>\n",
       "  </thead>\n",
       "  <tbody>\n",
       "  </tbody>\n",
       "</table>\n",
       "</div>"
      ],
      "text/plain": [
       "Empty DataFrame\n",
       "Columns: [STATION, NAME, PRCP, TMAX, TMIN]\n",
       "Index: []"
      ]
     },
     "execution_count": 12,
     "metadata": {},
     "output_type": "execute_result"
    }
   ],
   "source": [
    "core_weather[pd.isnull(core_weather[\"PRCP\"])]"
   ]
  },
  {
   "cell_type": "code",
   "execution_count": 13,
   "id": "5a002708-e27e-4153-a83b-20f51c2b97f2",
   "metadata": {},
   "outputs": [
    {
     "data": {
      "text/plain": [
       "STATION                         USW00094789\n",
       "NAME       JFK INTERNATIONAL AIRPORT, NY US\n",
       "PRCP                                   0.82\n",
       "TMAX                                     47\n",
       "TMIN                                     33\n",
       "Name: 2013-12-15, dtype: object"
      ]
     },
     "execution_count": 13,
     "metadata": {},
     "output_type": "execute_result"
    }
   ],
   "source": [
    "core_weather.loc[\"2013-12-15\",:]"
   ]
  },
  {
   "cell_type": "code",
   "execution_count": 15,
   "id": "6c3e6bc0-41b8-4b93-b91f-bfaa988856d8",
   "metadata": {},
   "outputs": [
    {
     "data": {
      "text/plain": [
       "PRCP\n",
       "0.00    0.671955\n",
       "0.01    0.030072\n",
       "0.02    0.021206\n",
       "0.03    0.015347\n",
       "0.04    0.013066\n",
       "          ...   \n",
       "2.81    0.000052\n",
       "3.92    0.000052\n",
       "2.70    0.000052\n",
       "2.18    0.000052\n",
       "3.24    0.000052\n",
       "Name: count, Length: 271, dtype: float64"
      ]
     },
     "execution_count": 15,
     "metadata": {},
     "output_type": "execute_result"
    }
   ],
   "source": [
    "core_weather[\"PRCP\"].value_counts() / core_weather.shape[0]"
   ]
  },
  {
   "cell_type": "code",
   "execution_count": 18,
   "id": "8454c9c6-1eeb-459c-92dc-45a2eb9cab1a",
   "metadata": {},
   "outputs": [],
   "source": [
    "core_weather[\"PRCP\"] = core_weather[\"PRCP\"].fillna(0)"
   ]
  },
  {
   "cell_type": "code",
   "execution_count": 19,
   "id": "1cbb0539-78b0-4be7-a379-d2f856b42ff1",
   "metadata": {},
   "outputs": [
    {
     "data": {
      "text/plain": [
       "STATION    0\n",
       "NAME       0\n",
       "PRCP       0\n",
       "TMAX       0\n",
       "TMIN       0\n",
       "dtype: int64"
      ]
     },
     "execution_count": 19,
     "metadata": {},
     "output_type": "execute_result"
    }
   ],
   "source": [
    "core_weather.apply(pd.isnull).sum()"
   ]
  },
  {
   "cell_type": "code",
   "execution_count": 20,
   "id": "3490c4e1-df30-4001-850f-e9ea02183d28",
   "metadata": {},
   "outputs": [
    {
     "data": {
      "text/html": [
       "<div>\n",
       "<style scoped>\n",
       "    .dataframe tbody tr th:only-of-type {\n",
       "        vertical-align: middle;\n",
       "    }\n",
       "\n",
       "    .dataframe tbody tr th {\n",
       "        vertical-align: top;\n",
       "    }\n",
       "\n",
       "    .dataframe thead th {\n",
       "        text-align: right;\n",
       "    }\n",
       "</style>\n",
       "<table border=\"1\" class=\"dataframe\">\n",
       "  <thead>\n",
       "    <tr style=\"text-align: right;\">\n",
       "      <th></th>\n",
       "      <th>STATION</th>\n",
       "      <th>NAME</th>\n",
       "      <th>PRCP</th>\n",
       "      <th>TMAX</th>\n",
       "      <th>TMIN</th>\n",
       "    </tr>\n",
       "    <tr>\n",
       "      <th>DATE</th>\n",
       "      <th></th>\n",
       "      <th></th>\n",
       "      <th></th>\n",
       "      <th></th>\n",
       "      <th></th>\n",
       "    </tr>\n",
       "  </thead>\n",
       "  <tbody>\n",
       "  </tbody>\n",
       "</table>\n",
       "</div>"
      ],
      "text/plain": [
       "Empty DataFrame\n",
       "Columns: [STATION, NAME, PRCP, TMAX, TMIN]\n",
       "Index: []"
      ]
     },
     "execution_count": 20,
     "metadata": {},
     "output_type": "execute_result"
    }
   ],
   "source": [
    "core_weather[pd.isnull(core_weather[\"TMIN\"])]"
   ]
  },
  {
   "cell_type": "code",
   "execution_count": 21,
   "id": "0d3a8767-fbcb-4047-a4fa-fa2c4d5d8de0",
   "metadata": {},
   "outputs": [
    {
     "data": {
      "text/html": [
       "<div>\n",
       "<style scoped>\n",
       "    .dataframe tbody tr th:only-of-type {\n",
       "        vertical-align: middle;\n",
       "    }\n",
       "\n",
       "    .dataframe tbody tr th {\n",
       "        vertical-align: top;\n",
       "    }\n",
       "\n",
       "    .dataframe thead th {\n",
       "        text-align: right;\n",
       "    }\n",
       "</style>\n",
       "<table border=\"1\" class=\"dataframe\">\n",
       "  <thead>\n",
       "    <tr style=\"text-align: right;\">\n",
       "      <th></th>\n",
       "      <th>STATION</th>\n",
       "      <th>NAME</th>\n",
       "      <th>PRCP</th>\n",
       "      <th>TMAX</th>\n",
       "      <th>TMIN</th>\n",
       "    </tr>\n",
       "    <tr>\n",
       "      <th>DATE</th>\n",
       "      <th></th>\n",
       "      <th></th>\n",
       "      <th></th>\n",
       "      <th></th>\n",
       "      <th></th>\n",
       "    </tr>\n",
       "  </thead>\n",
       "  <tbody>\n",
       "    <tr>\n",
       "      <th>2011-12-18</th>\n",
       "      <td>USW00094789</td>\n",
       "      <td>JFK INTERNATIONAL AIRPORT, NY US</td>\n",
       "      <td>0.00</td>\n",
       "      <td>31</td>\n",
       "      <td>23</td>\n",
       "    </tr>\n",
       "    <tr>\n",
       "      <th>2011-12-19</th>\n",
       "      <td>USW00094789</td>\n",
       "      <td>JFK INTERNATIONAL AIRPORT, NY US</td>\n",
       "      <td>0.00</td>\n",
       "      <td>48</td>\n",
       "      <td>21</td>\n",
       "    </tr>\n",
       "    <tr>\n",
       "      <th>2011-12-20</th>\n",
       "      <td>USW00094789</td>\n",
       "      <td>JFK INTERNATIONAL AIRPORT, NY US</td>\n",
       "      <td>0.02</td>\n",
       "      <td>48</td>\n",
       "      <td>40</td>\n",
       "    </tr>\n",
       "    <tr>\n",
       "      <th>2011-12-21</th>\n",
       "      <td>USW00094789</td>\n",
       "      <td>JFK INTERNATIONAL AIRPORT, NY US</td>\n",
       "      <td>0.12</td>\n",
       "      <td>59</td>\n",
       "      <td>40</td>\n",
       "    </tr>\n",
       "    <tr>\n",
       "      <th>2011-12-22</th>\n",
       "      <td>USW00094789</td>\n",
       "      <td>JFK INTERNATIONAL AIRPORT, NY US</td>\n",
       "      <td>0.06</td>\n",
       "      <td>60</td>\n",
       "      <td>48</td>\n",
       "    </tr>\n",
       "    <tr>\n",
       "      <th>2011-12-23</th>\n",
       "      <td>USW00094789</td>\n",
       "      <td>JFK INTERNATIONAL AIRPORT, NY US</td>\n",
       "      <td>0.86</td>\n",
       "      <td>51</td>\n",
       "      <td>36</td>\n",
       "    </tr>\n",
       "    <tr>\n",
       "      <th>2011-12-24</th>\n",
       "      <td>USW00094789</td>\n",
       "      <td>JFK INTERNATIONAL AIRPORT, NY US</td>\n",
       "      <td>0.00</td>\n",
       "      <td>37</td>\n",
       "      <td>27</td>\n",
       "    </tr>\n",
       "    <tr>\n",
       "      <th>2011-12-25</th>\n",
       "      <td>USW00094789</td>\n",
       "      <td>JFK INTERNATIONAL AIRPORT, NY US</td>\n",
       "      <td>0.00</td>\n",
       "      <td>48</td>\n",
       "      <td>26</td>\n",
       "    </tr>\n",
       "    <tr>\n",
       "      <th>2011-12-26</th>\n",
       "      <td>USW00094789</td>\n",
       "      <td>JFK INTERNATIONAL AIRPORT, NY US</td>\n",
       "      <td>0.00</td>\n",
       "      <td>48</td>\n",
       "      <td>33</td>\n",
       "    </tr>\n",
       "    <tr>\n",
       "      <th>2011-12-27</th>\n",
       "      <td>USW00094789</td>\n",
       "      <td>JFK INTERNATIONAL AIRPORT, NY US</td>\n",
       "      <td>0.70</td>\n",
       "      <td>57</td>\n",
       "      <td>32</td>\n",
       "    </tr>\n",
       "    <tr>\n",
       "      <th>2011-12-28</th>\n",
       "      <td>USW00094789</td>\n",
       "      <td>JFK INTERNATIONAL AIRPORT, NY US</td>\n",
       "      <td>0.00</td>\n",
       "      <td>50</td>\n",
       "      <td>32</td>\n",
       "    </tr>\n",
       "  </tbody>\n",
       "</table>\n",
       "</div>"
      ],
      "text/plain": [
       "                STATION                              NAME  PRCP  TMAX  TMIN\n",
       "DATE                                                                       \n",
       "2011-12-18  USW00094789  JFK INTERNATIONAL AIRPORT, NY US  0.00    31    23\n",
       "2011-12-19  USW00094789  JFK INTERNATIONAL AIRPORT, NY US  0.00    48    21\n",
       "2011-12-20  USW00094789  JFK INTERNATIONAL AIRPORT, NY US  0.02    48    40\n",
       "2011-12-21  USW00094789  JFK INTERNATIONAL AIRPORT, NY US  0.12    59    40\n",
       "2011-12-22  USW00094789  JFK INTERNATIONAL AIRPORT, NY US  0.06    60    48\n",
       "2011-12-23  USW00094789  JFK INTERNATIONAL AIRPORT, NY US  0.86    51    36\n",
       "2011-12-24  USW00094789  JFK INTERNATIONAL AIRPORT, NY US  0.00    37    27\n",
       "2011-12-25  USW00094789  JFK INTERNATIONAL AIRPORT, NY US  0.00    48    26\n",
       "2011-12-26  USW00094789  JFK INTERNATIONAL AIRPORT, NY US  0.00    48    33\n",
       "2011-12-27  USW00094789  JFK INTERNATIONAL AIRPORT, NY US  0.70    57    32\n",
       "2011-12-28  USW00094789  JFK INTERNATIONAL AIRPORT, NY US  0.00    50    32"
      ]
     },
     "execution_count": 21,
     "metadata": {},
     "output_type": "execute_result"
    }
   ],
   "source": [
    "core_weather.loc[\"2011-12-18\":\"2011-12-28\"]"
   ]
  },
  {
   "cell_type": "code",
   "execution_count": 24,
   "id": "75e06984-0231-405e-929f-48283e924361",
   "metadata": {},
   "outputs": [],
   "source": [
    "## core_weather = core_weather.fillna(method=\"ffill\")"
   ]
  },
  {
   "cell_type": "code",
   "execution_count": 23,
   "id": "15460fb0-0949-4ad1-b66b-63299ef71a61",
   "metadata": {},
   "outputs": [
    {
     "data": {
      "text/plain": [
       "STATION    0\n",
       "NAME       0\n",
       "PRCP       0\n",
       "TMAX       0\n",
       "TMIN       0\n",
       "dtype: int64"
      ]
     },
     "execution_count": 23,
     "metadata": {},
     "output_type": "execute_result"
    }
   ],
   "source": [
    "core_weather.apply(pd.isnull).sum()"
   ]
  },
  {
   "cell_type": "code",
   "execution_count": 25,
   "id": "a5ed849d-581f-47db-93cc-854706c67342",
   "metadata": {},
   "outputs": [
    {
     "data": {
      "text/plain": [
       "STATION    0\n",
       "NAME       0\n",
       "PRCP       0\n",
       "TMAX       0\n",
       "TMIN       0\n",
       "dtype: int64"
      ]
     },
     "execution_count": 25,
     "metadata": {},
     "output_type": "execute_result"
    }
   ],
   "source": [
    "# Check for missing value defined in data documentation\n",
    "core_weather.apply(lambda x: (x == 9999).sum())"
   ]
  },
  {
   "cell_type": "code",
   "execution_count": 26,
   "id": "edab9866-e377-4fe6-8a41-65956fcdefcb",
   "metadata": {},
   "outputs": [
    {
     "data": {
      "text/plain": [
       "STATION     object\n",
       "NAME        object\n",
       "PRCP       float64\n",
       "TMAX         int64\n",
       "TMIN         int64\n",
       "dtype: object"
      ]
     },
     "execution_count": 26,
     "metadata": {},
     "output_type": "execute_result"
    }
   ],
   "source": [
    "core_weather.dtypes"
   ]
  },
  {
   "cell_type": "code",
   "execution_count": 27,
   "id": "625598ea-cc35-437e-8dd5-ed536cb11a87",
   "metadata": {},
   "outputs": [
    {
     "data": {
      "text/plain": [
       "Index(['1970-01-01', '1970-01-02', '1970-01-03', '1970-01-04', '1970-01-05',\n",
       "       '1970-01-06', '1970-01-07', '1970-01-08', '1970-01-09', '1970-01-10',\n",
       "       ...\n",
       "       '2022-10-12', '2022-10-13', '2022-10-14', '2022-10-15', '2022-10-16',\n",
       "       '2022-10-17', '2022-10-18', '2022-10-19', '2022-10-20', '2022-10-21'],\n",
       "      dtype='object', name='DATE', length=19287)"
      ]
     },
     "execution_count": 27,
     "metadata": {},
     "output_type": "execute_result"
    }
   ],
   "source": [
    "core_weather.index"
   ]
  },
  {
   "cell_type": "code",
   "execution_count": 28,
   "id": "200533a6-57e5-4a73-bf1e-e3ef0d935074",
   "metadata": {},
   "outputs": [
    {
     "data": {
      "text/plain": [
       "DatetimeIndex(['1970-01-01', '1970-01-02', '1970-01-03', '1970-01-04',\n",
       "               '1970-01-05', '1970-01-06', '1970-01-07', '1970-01-08',\n",
       "               '1970-01-09', '1970-01-10',\n",
       "               ...\n",
       "               '2022-10-12', '2022-10-13', '2022-10-14', '2022-10-15',\n",
       "               '2022-10-16', '2022-10-17', '2022-10-18', '2022-10-19',\n",
       "               '2022-10-20', '2022-10-21'],\n",
       "              dtype='datetime64[ns]', name='DATE', length=19287, freq=None)"
      ]
     },
     "execution_count": 28,
     "metadata": {},
     "output_type": "execute_result"
    }
   ],
   "source": [
    "core_weather.index = pd.to_datetime(core_weather.index)\n",
    "core_weather.index"
   ]
  },
  {
   "cell_type": "code",
   "execution_count": 29,
   "id": "718e4f05-89c9-485c-8a3e-d847fadbeff6",
   "metadata": {},
   "outputs": [
    {
     "data": {
      "text/plain": [
       "Index([1970, 1970, 1970, 1970, 1970, 1970, 1970, 1970, 1970, 1970,\n",
       "       ...\n",
       "       2022, 2022, 2022, 2022, 2022, 2022, 2022, 2022, 2022, 2022],\n",
       "      dtype='int32', name='DATE', length=19287)"
      ]
     },
     "execution_count": 29,
     "metadata": {},
     "output_type": "execute_result"
    }
   ],
   "source": [
    "core_weather.index.year"
   ]
  },
  {
   "cell_type": "code",
   "execution_count": 31,
   "id": "7a234680-6544-419b-8a6b-754c15f36717",
   "metadata": {},
   "outputs": [
    {
     "data": {
      "text/plain": [
       "<Axes: xlabel='DATE'>"
      ]
     },
     "execution_count": 31,
     "metadata": {},
     "output_type": "execute_result"
    },
    {
     "data": {
      "image/png": "[encoded data removed]",
      "text/plain": [
       "<Figure size 640x480 with 1 Axes>"
      ]
     },
     "metadata": {},
     "output_type": "display_data"
    }
   ],
   "source": [
    "core_weather[[\"TMAX\", \"TMIN\"]].plot()"
   ]
  },
  {
   "cell_type": "code",
   "execution_count": 32,
   "id": "8006c851-e11d-47b0-9158-b67950fc81fd",
   "metadata": {},
   "outputs": [
    {
     "data": {
      "text/plain": [
       "DATE\n",
       "1970    365\n",
       "1971    365\n",
       "1972    366\n",
       "1973    365\n",
       "1974    365\n",
       "1975    365\n",
       "1976    366\n",
       "1977    365\n",
       "1978    365\n",
       "1979    365\n",
       "1980    366\n",
       "1981    365\n",
       "1982    365\n",
       "1983    365\n",
       "1984    366\n",
       "1985    365\n",
       "1986    365\n",
       "1987    365\n",
       "1988    366\n",
       "1989    365\n",
       "1990    365\n",
       "1991    365\n",
       "1992    366\n",
       "1993    365\n",
       "1994    365\n",
       "1995    365\n",
       "1996    366\n",
       "1997    365\n",
       "1998    365\n",
       "1999    365\n",
       "2000    366\n",
       "2001    365\n",
       "2002    365\n",
       "2003    365\n",
       "2004    366\n",
       "2005    365\n",
       "2006    365\n",
       "2007    365\n",
       "2008    366\n",
       "2009    365\n",
       "2010    365\n",
       "2011    365\n",
       "2012    366\n",
       "2013    365\n",
       "2014    365\n",
       "2015    365\n",
       "2016    366\n",
       "2017    365\n",
       "2018    365\n",
       "2019    365\n",
       "2020    366\n",
       "2021    365\n",
       "2022    294\n",
       "Name: count, dtype: int64"
      ]
     },
     "execution_count": 32,
     "metadata": {},
     "output_type": "execute_result"
    }
   ],
   "source": [
    "core_weather.index.year.value_counts().sort_index()"
   ]
  },
  {
   "cell_type": "code",
   "execution_count": 33,
   "id": "f53d13e0-7168-4ce6-974a-1a3312e3d871",
   "metadata": {},
   "outputs": [
    {
     "data": {
      "text/plain": [
       "<Axes: xlabel='DATE'>"
      ]
     },
     "execution_count": 33,
     "metadata": {},
     "output_type": "execute_result"
    },
    {
     "data": {
      "image/png": "[encoded data removed]",
      "text/plain": [
       "<Figure size 640x480 with 1 Axes>"
      ]
     },
     "metadata": {},
     "output_type": "display_data"
    }
   ],
   "source": [
    "core_weather[\"PRCP\"].plot()"
   ]
  },
  {
   "cell_type": "code",
   "execution_count": 35,
   "id": "1f1c0901-142c-431a-87a8-78bf14567d16",
   "metadata": {},
   "outputs": [
    {
     "data": {
      "text/plain": [
       "<Axes: xlabel='DATE'>"
      ]
     },
     "execution_count": 35,
     "metadata": {},
     "output_type": "execute_result"
    },
    {
     "data": {
      "image/png": "[encoded data removed]",
      "text/plain": [
       "<Figure size 640x480 with 1 Axes>"
      ]
     },
     "metadata": {},
     "output_type": "display_data"
    }
   ],
   "source": [
    "core_weather.groupby(core_weather.index.year).apply(lambda x: x[\"PRCP\"].sum()).plot()"
   ]
  },
  {
   "cell_type": "code",
   "execution_count": 36,
   "id": "7ae594b8-2a69-4f70-8c90-768c27ff9ef0",
   "metadata": {},
   "outputs": [
    {
     "data": {
      "text/html": [
       "<div>\n",
       "<style scoped>\n",
       "    .dataframe tbody tr th:only-of-type {\n",
       "        vertical-align: middle;\n",
       "    }\n",
       "\n",
       "    .dataframe tbody tr th {\n",
       "        vertical-align: top;\n",
       "    }\n",
       "\n",
       "    .dataframe thead th {\n",
       "        text-align: right;\n",
       "    }\n",
       "</style>\n",
       "<table border=\"1\" class=\"dataframe\">\n",
       "  <thead>\n",
       "    <tr style=\"text-align: right;\">\n",
       "      <th></th>\n",
       "      <th>STATION</th>\n",
       "      <th>NAME</th>\n",
       "      <th>PRCP</th>\n",
       "      <th>TMAX</th>\n",
       "      <th>TMIN</th>\n",
       "      <th>target</th>\n",
       "    </tr>\n",
       "    <tr>\n",
       "      <th>DATE</th>\n",
       "      <th></th>\n",
       "      <th></th>\n",
       "      <th></th>\n",
       "      <th></th>\n",
       "      <th></th>\n",
       "      <th></th>\n",
       "    </tr>\n",
       "  </thead>\n",
       "  <tbody>\n",
       "    <tr>\n",
       "      <th>1970-01-01</th>\n",
       "      <td>USW00094789</td>\n",
       "      <td>JFK INTERNATIONAL AIRPORT, NY US</td>\n",
       "      <td>0.00</td>\n",
       "      <td>28</td>\n",
       "      <td>22</td>\n",
       "      <td>31.0</td>\n",
       "    </tr>\n",
       "    <tr>\n",
       "      <th>1970-01-02</th>\n",
       "      <td>USW00094789</td>\n",
       "      <td>JFK INTERNATIONAL AIRPORT, NY US</td>\n",
       "      <td>0.00</td>\n",
       "      <td>31</td>\n",
       "      <td>22</td>\n",
       "      <td>38.0</td>\n",
       "    </tr>\n",
       "    <tr>\n",
       "      <th>1970-01-03</th>\n",
       "      <td>USW00094789</td>\n",
       "      <td>JFK INTERNATIONAL AIRPORT, NY US</td>\n",
       "      <td>0.02</td>\n",
       "      <td>38</td>\n",
       "      <td>25</td>\n",
       "      <td>31.0</td>\n",
       "    </tr>\n",
       "    <tr>\n",
       "      <th>1970-01-04</th>\n",
       "      <td>USW00094789</td>\n",
       "      <td>JFK INTERNATIONAL AIRPORT, NY US</td>\n",
       "      <td>0.00</td>\n",
       "      <td>31</td>\n",
       "      <td>23</td>\n",
       "      <td>35.0</td>\n",
       "    </tr>\n",
       "    <tr>\n",
       "      <th>1970-01-05</th>\n",
       "      <td>USW00094789</td>\n",
       "      <td>JFK INTERNATIONAL AIRPORT, NY US</td>\n",
       "      <td>0.00</td>\n",
       "      <td>35</td>\n",
       "      <td>21</td>\n",
       "      <td>36.0</td>\n",
       "    </tr>\n",
       "    <tr>\n",
       "      <th>...</th>\n",
       "      <td>...</td>\n",
       "      <td>...</td>\n",
       "      <td>...</td>\n",
       "      <td>...</td>\n",
       "      <td>...</td>\n",
       "      <td>...</td>\n",
       "    </tr>\n",
       "    <tr>\n",
       "      <th>2022-10-17</th>\n",
       "      <td>USW00094789</td>\n",
       "      <td>JFK INTERNATIONAL AIRPORT, NY US</td>\n",
       "      <td>0.08</td>\n",
       "      <td>67</td>\n",
       "      <td>54</td>\n",
       "      <td>58.0</td>\n",
       "    </tr>\n",
       "    <tr>\n",
       "      <th>2022-10-18</th>\n",
       "      <td>USW00094789</td>\n",
       "      <td>JFK INTERNATIONAL AIRPORT, NY US</td>\n",
       "      <td>0.00</td>\n",
       "      <td>58</td>\n",
       "      <td>48</td>\n",
       "      <td>56.0</td>\n",
       "    </tr>\n",
       "    <tr>\n",
       "      <th>2022-10-19</th>\n",
       "      <td>USW00094789</td>\n",
       "      <td>JFK INTERNATIONAL AIRPORT, NY US</td>\n",
       "      <td>0.00</td>\n",
       "      <td>56</td>\n",
       "      <td>43</td>\n",
       "      <td>61.0</td>\n",
       "    </tr>\n",
       "    <tr>\n",
       "      <th>2022-10-20</th>\n",
       "      <td>USW00094789</td>\n",
       "      <td>JFK INTERNATIONAL AIRPORT, NY US</td>\n",
       "      <td>0.00</td>\n",
       "      <td>61</td>\n",
       "      <td>44</td>\n",
       "      <td>64.0</td>\n",
       "    </tr>\n",
       "    <tr>\n",
       "      <th>2022-10-21</th>\n",
       "      <td>USW00094789</td>\n",
       "      <td>JFK INTERNATIONAL AIRPORT, NY US</td>\n",
       "      <td>0.00</td>\n",
       "      <td>64</td>\n",
       "      <td>43</td>\n",
       "      <td>NaN</td>\n",
       "    </tr>\n",
       "  </tbody>\n",
       "</table>\n",
       "<p>19287 rows × 6 columns</p>\n",
       "</div>"
      ],
      "text/plain": [
       "                STATION                              NAME  PRCP  TMAX  TMIN  \\\n",
       "DATE                                                                          \n",
       "1970-01-01  USW00094789  JFK INTERNATIONAL AIRPORT, NY US  0.00    28    22   \n",
       "1970-01-02  USW00094789  JFK INTERNATIONAL AIRPORT, NY US  0.00    31    22   \n",
       "1970-01-03  USW00094789  JFK INTERNATIONAL AIRPORT, NY US  0.02    38    25   \n",
       "1970-01-04  USW00094789  JFK INTERNATIONAL AIRPORT, NY US  0.00    31    23   \n",
       "1970-01-05  USW00094789  JFK INTERNATIONAL AIRPORT, NY US  0.00    35    21   \n",
       "...                 ...                               ...   ...   ...   ...   \n",
       "2022-10-17  USW00094789  JFK INTERNATIONAL AIRPORT, NY US  0.08    67    54   \n",
       "2022-10-18  USW00094789  JFK INTERNATIONAL AIRPORT, NY US  0.00    58    48   \n",
       "2022-10-19  USW00094789  JFK INTERNATIONAL AIRPORT, NY US  0.00    56    43   \n",
       "2022-10-20  USW00094789  JFK INTERNATIONAL AIRPORT, NY US  0.00    61    44   \n",
       "2022-10-21  USW00094789  JFK INTERNATIONAL AIRPORT, NY US  0.00    64    43   \n",
       "\n",
       "            target  \n",
       "DATE                \n",
       "1970-01-01    31.0  \n",
       "1970-01-02    38.0  \n",
       "1970-01-03    31.0  \n",
       "1970-01-04    35.0  \n",
       "1970-01-05    36.0  \n",
       "...            ...  \n",
       "2022-10-17    58.0  \n",
       "2022-10-18    56.0  \n",
       "2022-10-19    61.0  \n",
       "2022-10-20    64.0  \n",
       "2022-10-21     NaN  \n",
       "\n",
       "[19287 rows x 6 columns]"
      ]
     },
     "execution_count": 36,
     "metadata": {},
     "output_type": "execute_result"
    }
   ],
   "source": [
    "core_weather[\"target\"] = core_weather.shift(-1)[\"TMAX\"]\n",
    "core_weather"
   ]
  },
  {
   "cell_type": "code",
   "execution_count": 37,
   "id": "59009f28-ebe2-4607-a6a1-fef4d748f713",
   "metadata": {},
   "outputs": [
    {
     "data": {
      "text/html": [
       "<div>\n",
       "<style scoped>\n",
       "    .dataframe tbody tr th:only-of-type {\n",
       "        vertical-align: middle;\n",
       "    }\n",
       "\n",
       "    .dataframe tbody tr th {\n",
       "        vertical-align: top;\n",
       "    }\n",
       "\n",
       "    .dataframe thead th {\n",
       "        text-align: right;\n",
       "    }\n",
       "</style>\n",
       "<table border=\"1\" class=\"dataframe\">\n",
       "  <thead>\n",
       "    <tr style=\"text-align: right;\">\n",
       "      <th></th>\n",
       "      <th>STATION</th>\n",
       "      <th>NAME</th>\n",
       "      <th>PRCP</th>\n",
       "      <th>TMAX</th>\n",
       "      <th>TMIN</th>\n",
       "      <th>target</th>\n",
       "    </tr>\n",
       "    <tr>\n",
       "      <th>DATE</th>\n",
       "      <th></th>\n",
       "      <th></th>\n",
       "      <th></th>\n",
       "      <th></th>\n",
       "      <th></th>\n",
       "      <th></th>\n",
       "    </tr>\n",
       "  </thead>\n",
       "  <tbody>\n",
       "    <tr>\n",
       "      <th>1970-01-01</th>\n",
       "      <td>USW00094789</td>\n",
       "      <td>JFK INTERNATIONAL AIRPORT, NY US</td>\n",
       "      <td>0.00</td>\n",
       "      <td>28</td>\n",
       "      <td>22</td>\n",
       "      <td>31.0</td>\n",
       "    </tr>\n",
       "    <tr>\n",
       "      <th>1970-01-02</th>\n",
       "      <td>USW00094789</td>\n",
       "      <td>JFK INTERNATIONAL AIRPORT, NY US</td>\n",
       "      <td>0.00</td>\n",
       "      <td>31</td>\n",
       "      <td>22</td>\n",
       "      <td>38.0</td>\n",
       "    </tr>\n",
       "    <tr>\n",
       "      <th>1970-01-03</th>\n",
       "      <td>USW00094789</td>\n",
       "      <td>JFK INTERNATIONAL AIRPORT, NY US</td>\n",
       "      <td>0.02</td>\n",
       "      <td>38</td>\n",
       "      <td>25</td>\n",
       "      <td>31.0</td>\n",
       "    </tr>\n",
       "    <tr>\n",
       "      <th>1970-01-04</th>\n",
       "      <td>USW00094789</td>\n",
       "      <td>JFK INTERNATIONAL AIRPORT, NY US</td>\n",
       "      <td>0.00</td>\n",
       "      <td>31</td>\n",
       "      <td>23</td>\n",
       "      <td>35.0</td>\n",
       "    </tr>\n",
       "    <tr>\n",
       "      <th>1970-01-05</th>\n",
       "      <td>USW00094789</td>\n",
       "      <td>JFK INTERNATIONAL AIRPORT, NY US</td>\n",
       "      <td>0.00</td>\n",
       "      <td>35</td>\n",
       "      <td>21</td>\n",
       "      <td>36.0</td>\n",
       "    </tr>\n",
       "    <tr>\n",
       "      <th>...</th>\n",
       "      <td>...</td>\n",
       "      <td>...</td>\n",
       "      <td>...</td>\n",
       "      <td>...</td>\n",
       "      <td>...</td>\n",
       "      <td>...</td>\n",
       "    </tr>\n",
       "    <tr>\n",
       "      <th>2022-10-16</th>\n",
       "      <td>USW00094789</td>\n",
       "      <td>JFK INTERNATIONAL AIRPORT, NY US</td>\n",
       "      <td>0.00</td>\n",
       "      <td>66</td>\n",
       "      <td>52</td>\n",
       "      <td>67.0</td>\n",
       "    </tr>\n",
       "    <tr>\n",
       "      <th>2022-10-17</th>\n",
       "      <td>USW00094789</td>\n",
       "      <td>JFK INTERNATIONAL AIRPORT, NY US</td>\n",
       "      <td>0.08</td>\n",
       "      <td>67</td>\n",
       "      <td>54</td>\n",
       "      <td>58.0</td>\n",
       "    </tr>\n",
       "    <tr>\n",
       "      <th>2022-10-18</th>\n",
       "      <td>USW00094789</td>\n",
       "      <td>JFK INTERNATIONAL AIRPORT, NY US</td>\n",
       "      <td>0.00</td>\n",
       "      <td>58</td>\n",
       "      <td>48</td>\n",
       "      <td>56.0</td>\n",
       "    </tr>\n",
       "    <tr>\n",
       "      <th>2022-10-19</th>\n",
       "      <td>USW00094789</td>\n",
       "      <td>JFK INTERNATIONAL AIRPORT, NY US</td>\n",
       "      <td>0.00</td>\n",
       "      <td>56</td>\n",
       "      <td>43</td>\n",
       "      <td>61.0</td>\n",
       "    </tr>\n",
       "    <tr>\n",
       "      <th>2022-10-20</th>\n",
       "      <td>USW00094789</td>\n",
       "      <td>JFK INTERNATIONAL AIRPORT, NY US</td>\n",
       "      <td>0.00</td>\n",
       "      <td>61</td>\n",
       "      <td>44</td>\n",
       "      <td>64.0</td>\n",
       "    </tr>\n",
       "  </tbody>\n",
       "</table>\n",
       "<p>19286 rows × 6 columns</p>\n",
       "</div>"
      ],
      "text/plain": [
       "                STATION                              NAME  PRCP  TMAX  TMIN  \\\n",
       "DATE                                                                          \n",
       "1970-01-01  USW00094789  JFK INTERNATIONAL AIRPORT, NY US  0.00    28    22   \n",
       "1970-01-02  USW00094789  JFK INTERNATIONAL AIRPORT, NY US  0.00    31    22   \n",
       "1970-01-03  USW00094789  JFK INTERNATIONAL AIRPORT, NY US  0.02    38    25   \n",
       "1970-01-04  USW00094789  JFK INTERNATIONAL AIRPORT, NY US  0.00    31    23   \n",
       "1970-01-05  USW00094789  JFK INTERNATIONAL AIRPORT, NY US  0.00    35    21   \n",
       "...                 ...                               ...   ...   ...   ...   \n",
       "2022-10-16  USW00094789  JFK INTERNATIONAL AIRPORT, NY US  0.00    66    52   \n",
       "2022-10-17  USW00094789  JFK INTERNATIONAL AIRPORT, NY US  0.08    67    54   \n",
       "2022-10-18  USW00094789  JFK INTERNATIONAL AIRPORT, NY US  0.00    58    48   \n",
       "2022-10-19  USW00094789  JFK INTERNATIONAL AIRPORT, NY US  0.00    56    43   \n",
       "2022-10-20  USW00094789  JFK INTERNATIONAL AIRPORT, NY US  0.00    61    44   \n",
       "\n",
       "            target  \n",
       "DATE                \n",
       "1970-01-01    31.0  \n",
       "1970-01-02    38.0  \n",
       "1970-01-03    31.0  \n",
       "1970-01-04    35.0  \n",
       "1970-01-05    36.0  \n",
       "...            ...  \n",
       "2022-10-16    67.0  \n",
       "2022-10-17    58.0  \n",
       "2022-10-18    56.0  \n",
       "2022-10-19    61.0  \n",
       "2022-10-20    64.0  \n",
       "\n",
       "[19286 rows x 6 columns]"
      ]
     },
     "execution_count": 37,
     "metadata": {},
     "output_type": "execute_result"
    }
   ],
   "source": [
    "core_weather = core_weather.iloc[:-1,:].copy()\n",
    "core_weather"
   ]
  },
  {
   "cell_type": "code",
   "execution_count": null,
   "id": "13f7ad1f-5736-4e32-b6f3-b3c8cdcf922a",
   "metadata": {},
   "outputs": [],
   "source": []
  }
 ],
 "metadata": {
  "kernelspec": {
   "display_name": "Python 3 (ipykernel)",
   "language": "python",
   "name": "python3"
  },
  "language_info": {
   "codemirror_mode": {
    "name": "ipython",
    "version": 3
   },
   "file_extension": ".py",
   "mimetype": "text/x-python",
   "name": "python",
   "nbconvert_exporter": "python",
   "pygments_lexer": "ipython3",
   "version": "3.11.6"
  }
 },
 "nbformat": 4,
 "nbformat_minor": 5
}
